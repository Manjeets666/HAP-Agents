{
 "cells": [
  {
   "cell_type": "markdown",
   "id": "fdb65993",
   "metadata": {},
   "source": [
    "# Memory Game\n",
    "This notebook implements a memory game where two players match pairs of cards."
   ]
  },
  {
   "cell_type": "code",
   "execution_count": 16,
   "id": "c8aeae65",
   "metadata": {},
   "outputs": [],
   "source": [
    "# Import required libraries\n",
    "import random\n",
    "import time\n",
    "from IPython.display import clear_output"
   ]
  },
  {
   "cell_type": "code",
   "execution_count": null,
   "id": "84f4a0fb",
   "metadata": {},
   "outputs": [
    {
     "name": "stdout",
     "output_type": "stream",
     "text": [
      "['🍌', '🍑', '🍇', '🍑']\n",
      "['🥝', '🥝', '🍎', '🍒']\n",
      "['🍒', '🍌', '🍓', '🍎']\n",
      "['🍍', '🍇', '🍍', '🍓']\n"
     ]
    }
   ],
   "source": [
    "# Define the grid size and symbols\n",
    "GRID_SIZE = 4\n",
    "symbols = ['A', 'A', 'B', 'B', 'C', 'C', 'D', 'D', 'E', 'E', 'F', 'F', 'G', 'G', 'H', 'H']\n",
    "random.shuffle(symbols)\n",
    "grid = [symbols[i:i+GRID_SIZE] for i in range(0, len(symbols), GRID_SIZE)]\n",
    "# Display the grid\n",
    "for row in grid:\n",
    "    print(row)"
   ]
  },
  {
   "cell_type": "code",
   "execution_count": 18,
   "id": "be517fe9",
   "metadata": {},
   "outputs": [
    {
     "name": "stdout",
     "output_type": "stream",
     "text": [
      "* * * * \n",
      "* * * * \n",
      "* * * * \n",
      "* * * * \n"
     ]
    }
   ],
   "source": [
    "# Initialize the game state\n",
    "revealed = [[False] * GRID_SIZE for _ in range(GRID_SIZE)]\n",
    "scores = [0, 0]  # Scores for Player 1 and Player 2\n",
    "current_player = 0  # Player 1 starts\n",
    "def display_grid():\n",
    "    for i in range(GRID_SIZE):\n",
    "        for j in range(GRID_SIZE):\n",
    "            if revealed[i][j]:\n",
    "                print(grid[i][j], end=' ')\n",
    "            else:\n",
    "                print('*', end=' ')\n",
    "        print()\n",
    "display_grid()"
   ]
  },
  {
   "cell_type": "code",
   "execution_count": null,
   "id": "1850384f",
   "metadata": {},
   "outputs": [
    {
     "name": "stdout",
     "output_type": "stream",
     "text": [
      "Player 1s turn\n"
     ]
    }
   ],
   "source": [
    "# Game logic\n",
    "def play_turn():\n",
    "    global current_player\n",
    "    print(f'Player {current_player + 1}s turn')\n",
    "    x1, y1 = map(int, input('Enter coordinates of first card (row col): ').split())\n",
    "    x2, y2 = map(int, input('Enter coordinates of second card (row col): ').split())\n",
    "    revealed[x1][y1] = True\n",
    "    revealed[x2][y2] = True\n",
    "    display_grid()\n",
    "    if grid[x1][y1] == grid[x2][y2]:\n",
    "        print('Match found!')\n",
    "        scores[current_player] += 1\n",
    "    else:\n",
    "        print('No match. Flipping back...')\n",
    "        time.sleep(2)\n",
    "        revealed[x1][y1] = False\n",
    "        revealed[x2][y2] = False\n",
    "        clear_output()\n",
    "        display_grid()\n",
    "    current_player = 1 - current_player  # Switch player\n",
    "# Play the game\n",
    "while not all(all(row) for row in revealed):\n",
    "    play_turn()\n",
    "print('Game over!')\n",
    "print(f'Player 1 score: {scores[0]}')\n",
    "print(f'Player 2 score: {scores[1]}')\n",
    "if scores[0] > scores[1]:\n",
    "    print('Player 1 wins!')\n",
    "elif scores[1] > scores[0]:\n",
    "    print('Player 2 wins!')\n",
    "else:\n",
    "    print('Its a tie!')"
   ]
  }
 ],
 "metadata": {
  "kernelspec": {
   "display_name": ".venv",
   "language": "python",
   "name": "python3"
  },
  "language_info": {
   "codemirror_mode": {
    "name": "ipython",
    "version": 3
   },
   "file_extension": ".py",
   "mimetype": "text/x-python",
   "name": "python",
   "nbconvert_exporter": "python",
   "pygments_lexer": "ipython3",
   "version": "3.13.2"
  }
 },
 "nbformat": 4,
 "nbformat_minor": 5
}
