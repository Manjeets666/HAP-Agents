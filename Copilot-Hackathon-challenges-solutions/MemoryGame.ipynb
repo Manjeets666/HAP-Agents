{
 "cells": [
  {
   "cell_type": "markdown",
   "id": "fdb65993",
   "metadata": {},
   "source": [
    "# Memory Game\n",
    "This notebook implements a memory game where two players match pairs of cards."
   ]
  },
  {
   "cell_type": "code",
   "execution_count": 9,
   "id": "c8aeae65",
   "metadata": {},
   "outputs": [],
   "source": [
    "# Import required libraries\n",
    "import random\n",
    "import time\n",
    "from IPython.display import clear_output"
   ]
  },
  {
   "cell_type": "code",
   "execution_count": 10,
   "id": "84f4a0fb",
   "metadata": {},
   "outputs": [
    {
     "name": "stdout",
     "output_type": "stream",
     "text": [
      "['H', 'H', 'E', 'G']\n",
      "['B', 'E', 'A', 'F']\n",
      "['D', 'B', 'G', 'D']\n",
      "['A', 'C', 'C', 'F']\n"
     ]
    }
   ],
   "source": [
    "# Define the grid size and symbols\n",
    "GRID_SIZE = 4\n",
    "symbols = ['A', 'B', 'C', 'D', 'E', 'F', 'G', 'H'] * 2\n",
    "random.shuffle(symbols)\n",
    "grid = [symbols[i:i+GRID_SIZE] for i in range(0, len(symbols), GRID_SIZE)]\n",
    "# Display the grid\n",
    "for row in grid:\n",
    "    print(row)"
   ]
  },
  {
   "cell_type": "code",
   "execution_count": 11,
   "id": "be517fe9",
   "metadata": {},
   "outputs": [
    {
     "name": "stdout",
     "output_type": "stream",
     "text": [
      "* * * * \n",
      "* * * * \n",
      "* * * * \n",
      "* * * * \n"
     ]
    }
   ],
   "source": [
    "# Initialize the game state\n",
    "revealed = [[False] * GRID_SIZE for _ in range(GRID_SIZE)]\n",
    "scores = [0, 0]  # Scores for Player 1 and Player 2\n",
    "current_player = 0  # Player 1 starts\n",
    "def display_grid():\n",
    "    for i in range(GRID_SIZE):\n",
    "        for j in range(GRID_SIZE):\n",
    "            if revealed[i][j]:\n",
    "                print(grid[i][j], end=' ')\n",
    "            else:\n",
    "                print('*', end=' ')\n",
    "        print()\n",
    "display_grid()"
   ]
  },
  {
   "cell_type": "code",
   "execution_count": 15,
   "id": "1850384f",
   "metadata": {},
   "outputs": [
    {
     "name": "stdout",
     "output_type": "stream",
     "text": [
      "* * * * \n",
      "* * * * \n",
      "* * * * \n",
      "* * * * \n",
      "Player 1s turn\n",
      "* * * * \n",
      "* * A * \n",
      "* * * * \n",
      "* * * * \n",
      "Match found!\n",
      "Player 2s turn\n",
      "* * * * \n",
      "* * A * \n",
      "* * * D \n",
      "* * * * \n",
      "Match found!\n",
      "Player 1s turn\n",
      "* * * * \n",
      "* * A * \n",
      "* * * D \n",
      "* * * * \n",
      "Match found!\n",
      "Player 2s turn\n"
     ]
    },
    {
     "ename": "ValueError",
     "evalue": "not enough values to unpack (expected 2, got 0)",
     "output_type": "error",
     "traceback": [
      "\u001b[31m---------------------------------------------------------------------------\u001b[39m",
      "\u001b[31mValueError\u001b[39m                                Traceback (most recent call last)",
      "\u001b[36mCell\u001b[39m\u001b[36m \u001b[39m\u001b[32mIn[15]\u001b[39m\u001b[32m, line 23\u001b[39m\n\u001b[32m     21\u001b[39m \u001b[38;5;66;03m# Play the game\u001b[39;00m\n\u001b[32m     22\u001b[39m \u001b[38;5;28;01mwhile\u001b[39;00m \u001b[38;5;129;01mnot\u001b[39;00m \u001b[38;5;28mall\u001b[39m(\u001b[38;5;28mall\u001b[39m(row) \u001b[38;5;28;01mfor\u001b[39;00m row \u001b[38;5;129;01min\u001b[39;00m revealed):\n\u001b[32m---> \u001b[39m\u001b[32m23\u001b[39m     \u001b[43mplay_turn\u001b[49m\u001b[43m(\u001b[49m\u001b[43m)\u001b[49m\n\u001b[32m     24\u001b[39m \u001b[38;5;28mprint\u001b[39m(\u001b[33m'\u001b[39m\u001b[33mGame over!\u001b[39m\u001b[33m'\u001b[39m)\n\u001b[32m     25\u001b[39m \u001b[38;5;28mprint\u001b[39m(\u001b[33mf\u001b[39m\u001b[33m'\u001b[39m\u001b[33mPlayer 1 score: \u001b[39m\u001b[38;5;132;01m{\u001b[39;00mscores[\u001b[32m0\u001b[39m]\u001b[38;5;132;01m}\u001b[39;00m\u001b[33m'\u001b[39m)\n",
      "\u001b[36mCell\u001b[39m\u001b[36m \u001b[39m\u001b[32mIn[15]\u001b[39m\u001b[32m, line 5\u001b[39m, in \u001b[36mplay_turn\u001b[39m\u001b[34m()\u001b[39m\n\u001b[32m      3\u001b[39m \u001b[38;5;28;01mglobal\u001b[39;00m current_player\n\u001b[32m      4\u001b[39m \u001b[38;5;28mprint\u001b[39m(\u001b[33mf\u001b[39m\u001b[33m'\u001b[39m\u001b[33mPlayer \u001b[39m\u001b[38;5;132;01m{\u001b[39;00mcurrent_player\u001b[38;5;250m \u001b[39m+\u001b[38;5;250m \u001b[39m\u001b[32m1\u001b[39m\u001b[38;5;132;01m}\u001b[39;00m\u001b[33ms turn\u001b[39m\u001b[33m'\u001b[39m)\n\u001b[32m----> \u001b[39m\u001b[32m5\u001b[39m x1, y1 = \u001b[38;5;28mmap\u001b[39m(\u001b[38;5;28mint\u001b[39m, \u001b[38;5;28minput\u001b[39m(\u001b[33m'\u001b[39m\u001b[33mEnter coordinates of first card (row col): \u001b[39m\u001b[33m'\u001b[39m).split())\n\u001b[32m      6\u001b[39m x2, y2 = \u001b[38;5;28mmap\u001b[39m(\u001b[38;5;28mint\u001b[39m, \u001b[38;5;28minput\u001b[39m(\u001b[33m'\u001b[39m\u001b[33mEnter coordinates of second card (row col): \u001b[39m\u001b[33m'\u001b[39m).split())\n\u001b[32m      7\u001b[39m revealed[x1][y1] = \u001b[38;5;28;01mTrue\u001b[39;00m\n",
      "\u001b[31mValueError\u001b[39m: not enough values to unpack (expected 2, got 0)"
     ]
    }
   ],
   "source": [
    "# Game logic\n",
    "def play_turn():\n",
    "    global current_player\n",
    "    print(f'Player {current_player + 1}s turn')\n",
    "    x1, y1 = map(int, input('Enter coordinates of first card (row col): ').split())\n",
    "    x2, y2 = map(int, input('Enter coordinates of second card (row col): ').split())\n",
    "    revealed[x1][y1] = True\n",
    "    revealed[x2][y2] = True\n",
    "    display_grid()\n",
    "    if grid[x1][y1] == grid[x2][y2]:\n",
    "        print('Match found!')\n",
    "        scores[current_player] += 1\n",
    "    else:\n",
    "        print('No match. Flipping back...')\n",
    "        time.sleep(2)\n",
    "        revealed[x1][y1] = False\n",
    "        revealed[x2][y2] = False\n",
    "        clear_output()\n",
    "        display_grid()\n",
    "    current_player = 1 - current_player  # Switch player\n",
    "# Play the game\n",
    "while not all(all(row) for row in revealed):\n",
    "    play_turn()\n",
    "print('Game over!')\n",
    "print(f'Player 1 score: {scores[0]}')\n",
    "print(f'Player 2 score: {scores[1]}')\n",
    "if scores[0] > scores[1]:\n",
    "    print('Player 1 wins!')\n",
    "elif scores[1] > scores[0]:\n",
    "    print('Player 2 wins!')\n",
    "else:\n",
    "    print('Its a tie!')"
   ]
  }
 ],
 "metadata": {
  "kernelspec": {
   "display_name": ".venv",
   "language": "python",
   "name": "python3"
  },
  "language_info": {
   "codemirror_mode": {
    "name": "ipython",
    "version": 3
   },
   "file_extension": ".py",
   "mimetype": "text/x-python",
   "name": "python",
   "nbconvert_exporter": "python",
   "pygments_lexer": "ipython3",
   "version": "3.13.2"
  }
 },
 "nbformat": 4,
 "nbformat_minor": 5
}
